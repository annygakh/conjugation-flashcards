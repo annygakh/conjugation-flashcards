{
 "cells": [
  {
   "cell_type": "code",
   "execution_count": 1,
   "metadata": {
    "collapsed": true
   },
   "outputs": [],
   "source": [
    "from bs4 import BeautifulSoup\n",
    "import urllib.request\n",
    "import sys\n",
    "import csv\n",
    "\n",
    "supported_types = ['presentIndicative', 'preteritIndicative','imperfectIndicative', 'presentSubjunctive' ]\n",
    "\n",
    "def find_extract_html_el(verb):\n",
    "    URL = \"http://www.spanishdict.com/conjugate/{0}\".format(verb)\n",
    "    response = urllib.request.urlopen(URL)\n",
    "    data = response.read()\n",
    "    soup = BeautifulSoup(data, \"html.parser\")\n",
    "    main_cont = soup.find('div', attrs={'class':'main-container'})\n",
    "    conjug = main_cont.find('div', attrs={'class':'conjugation'})\n",
    "    if conjug == None:\n",
    "        return None\n",
    "    card = conjug.find('div', attrs={'class':'card'})\n",
    "    return card\n",
    "\n",
    "def extract_conjugations(card):   \n",
    "    # <div class=\"card\">\n",
    "    #    <div class=\"vtable-header\"> \n",
    "    #    <div class=\"vtable-wrapper\">\n",
    "    #    The two divs above contain conjugations for different tense for the same mood, e.g. indicative, subjunctive, etc\n",
    "    # </div>\n",
    "\n",
    "    current_mood = None \n",
    "    dicts = {'presentIndicative' : {},\n",
    "            'preteritIndicative' : {},\n",
    "            'imperfectIndicative': {},\n",
    "            'presentSubjunctive' : {}}\n",
    "\n",
    "    for card_div in card.children:\n",
    "        if (card_div.name != 'div') or card_div.get('class') == None:\n",
    "            continue\n",
    "        div_classes = card_div['class']\n",
    "        if 'vtable-header' in div_classes:\n",
    "            mood = card_div.find('a').find('span').text\n",
    "            current_mood = mood\n",
    "        elif 'vtable-wrapper' in div_classes:\n",
    "            # Iterate over all tenses\n",
    "            for tr in card_div.table.children:\n",
    "                if tr.name != 'tr' or tr.get('class') == None or 'vtable-head-row' in tr.get('class'):\n",
    "                    pass\n",
    "                else:\n",
    "                    # Iterate over all the pronouns\n",
    "                    pronoun = tr.td.text\n",
    "                    for pronoun_td in tr.children:\n",
    "                        if pronoun_td.name != 'td' or pronoun_td.get('class') == None or 'vtable-pronoun' in pronoun_td.get('class'):\n",
    "                            pass\n",
    "                        else:\n",
    "                            if (pronoun_td.div.div == None): # If for this pronoun, there doesnt exist a conjugation\n",
    "                                continue\n",
    "                            mood_tense = pronoun_td.div.div['data-tense'] # e.g. presentIndicative, preteritIndicative\n",
    "                            conjug_word = pronoun_td.div.div.text\n",
    "                            correct_dict = dicts.get(mood_tense)\n",
    "                            if correct_dict == None and mood_tense in supported_types:\n",
    "                                print(\"Error trying to get a dictionary for type {}\".format(mood_tense))\n",
    "                                # TODO exit?? print the word we are trying to processs?\n",
    "                            elif correct_dict != None:\n",
    "                                correct_dict[pronoun] = conjug_word\n",
    "    return dicts\n"
   ]
  },
  {
   "cell_type": "code",
   "execution_count": 2,
   "metadata": {
    "collapsed": true
   },
   "outputs": [],
   "source": [
    "def process_word(verb):\n",
    "    html_el = find_extract_html_el(verb)\n",
    "    if html_el == None:\n",
    "        print(\"Could not process verb '{}'\".format(verb))\n",
    "        return\n",
    "    dicts = extract_conjugations(html_el)\n",
    "    for mood_tense in supported_types:\n",
    "        newfilename = '{}.txt'.format(mood_tense)\n",
    "        with open(newfilename, 'a') as csvfile:\n",
    "            writer = csv.writer(csvfile, delimiter='\\n')\n",
    "            curr_dict = dicts[mood_tense]\n",
    "            if curr_dict == None:\n",
    "                print(\"Cant find a dict for {}\".format(mood_tense))\n",
    "                continue\n",
    "            for pronoun in curr_dict:\n",
    "                flashcard = \"{} {}\\t {}\".format(pronoun, verb, curr_dict[pronoun])\n",
    "#                 print(flashcard)\n",
    "                writer.writerow([flashcard])\n",
    "    print(\"Processed verb '{}'\".format(verb))\n",
    "\n",
    "def find_conjugations(textfile):\n",
    "    try:\n",
    "        with open(textfile, 'r') as input_file:\n",
    "            reader = csv.reader(input_file, delimiter='\\n')\n",
    "            for word in reader:\n",
    "                if len(word) > 1:\n",
    "                    print(\"There is more than one word at each line. Those will not be processed\\n\")\n",
    "                process_word(word[0])       \n",
    "    except FileNotFoundError:\n",
    "        print(\"Could not find file {} in current directory\".format(textfile))"
   ]
  },
  {
   "cell_type": "code",
   "execution_count": 3,
   "metadata": {},
   "outputs": [
    {
     "name": "stdout",
     "output_type": "stream",
     "text": [
      "Could not find file -f in current directory\n",
      "Done processing\n"
     ]
    }
   ],
   "source": [
    "if __name__ == \"__main__\":\n",
    "    if len(sys.argv) < 2:\n",
    "        print(\"Usage: {} <text file with \\\\n separated words>\\n\".format(sys.argv[0]))\n",
    "    else:\n",
    "        find_conjugations(sys.argv[1])\n",
    "        print(\"Done processing\")"
   ]
  },
  {
   "cell_type": "code",
   "execution_count": null,
   "metadata": {
    "collapsed": true
   },
   "outputs": [],
   "source": []
  }
 ],
 "metadata": {
  "kernelspec": {
   "display_name": "Python 3",
   "language": "python",
   "name": "python3"
  },
  "language_info": {
   "codemirror_mode": {
    "name": "ipython",
    "version": 3
   },
   "file_extension": ".py",
   "mimetype": "text/x-python",
   "name": "python",
   "nbconvert_exporter": "python",
   "pygments_lexer": "ipython3",
   "version": "3.6.2"
  }
 },
 "nbformat": 4,
 "nbformat_minor": 2
}
